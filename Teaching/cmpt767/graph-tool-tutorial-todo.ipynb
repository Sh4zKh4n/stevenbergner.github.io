{
 "cells": [
  {
   "cell_type": "markdown",
   "metadata": {},
   "source": [
    "# Graph-tool tutorial"
   ]
  },
  {
   "cell_type": "markdown",
   "metadata": {},
   "source": [
    "The following tutorial demonstrates working with graphs using the [graph-tool python module](https://graph-tool.skewed.de/). In the process, you will learn how to:\n",
    "\n",
    "* create a graph 'by-hand'\n",
    "* perform basic network analysis\n",
    "* visualize graphs and their properties"
   ]
  },
  {
   "cell_type": "code",
   "execution_count": 3,
   "metadata": {},
   "outputs": [
    {
     "name": "stdout",
     "output_type": "stream",
     "text": [
      "graph-tool version: 2.26\n"
     ]
    }
   ],
   "source": [
    "import graph_tool.all as gt\n",
    "import pandas as pd\n",
    "import numpy as np\n",
    "from IPython.display import display\n",
    "%matplotlib inline\n",
    "print(\"graph-tool version: {}\".format(gt.__version__.split(' ')[0]))"
   ]
  },
  {
   "cell_type": "markdown",
   "metadata": {},
   "source": [
    "# Show datasets in collection"
   ]
  },
  {
   "cell_type": "code",
   "execution_count": null,
   "metadata": {},
   "outputs": [],
   "source": [
    "with pd.option_context('display.max_colwidth', -1):\n",
    "    display(pd.DataFrame.from_records(gt.collection.descriptions,\n",
    "                                      index=['description']).transpose())"
   ]
  },
  {
   "cell_type": "code",
   "execution_count": null,
   "metadata": {},
   "outputs": [],
   "source": [
    "g = gt.collection.data['karate']\n",
    "g"
   ]
  },
  {
   "cell_type": "code",
   "execution_count": null,
   "metadata": {},
   "outputs": [],
   "source": [
    "# construct a simple drawing of this graph"
   ]
  },
  {
   "cell_type": "markdown",
   "metadata": {},
   "source": [
    "# Another graph example"
   ]
  },
  {
   "cell_type": "code",
   "execution_count": 8,
   "metadata": {},
   "outputs": [],
   "source": [
    "gs = gt.load_graph(\"search_example.xml\")"
   ]
  },
  {
   "cell_type": "code",
   "execution_count": 9,
   "metadata": {},
   "outputs": [],
   "source": [
    "# TODO: print available edge and vertex properties\n",
    "# TODO: visualize edge weight and names"
   ]
  },
  {
   "cell_type": "markdown",
   "metadata": {},
   "source": [
    "# Social graph drawing 101"
   ]
  },
  {
   "cell_type": "code",
   "execution_count": 123,
   "metadata": {},
   "outputs": [],
   "source": [
    "X_knows = {\n",
    "    'Mary': ['Peter', 'Albert', 'DavidF', 'Peter'],\n",
    "    'Judy': ['Bob', 'Alan'],\n",
    "    'Peter': ['Mary', 'DavidF', 'Jon'],\n",
    "    'DavidF': ['Albert', 'Joseph', 'Peter', 'Mary'],\n",
    "    'Jon': ['Peter', 'Joseph', 'DavidE'],\n",
    "    'DavidE': ['Jon', 'Joseph', 'Albert'],\n",
    "    'Joseph': ['DavidE', 'Jon', 'DavidF'],\n",
    "    'Bob': ['Judy', 'Alan'],\n",
    "    'Alan': ['Bob', 'Mary', 'Judy'],\n",
    "    'Albert': ['DavidF', 'Mary', 'DavidE'],\n",
    "}"
   ]
  },
  {
   "cell_type": "code",
   "execution_count": 124,
   "metadata": {},
   "outputs": [],
   "source": [
    "g = gt.Graph(directed=True)"
   ]
  },
  {
   "cell_type": "markdown",
   "metadata": {},
   "source": [
    "# Create a graph using Python iterations"
   ]
  },
  {
   "cell_type": "markdown",
   "metadata": {},
   "source": [
    "Below is a slow and tedious version of what can be done with a single call to `add_edge_list(...)` on a `Graph`."
   ]
  },
  {
   "cell_type": "code",
   "execution_count": 105,
   "metadata": {},
   "outputs": [],
   "source": [
    "# Create edge tuples and list of unique names\n",
    "X_edges = list((n,k) for n in X_knows for k in X_knows[n])\n",
    "from functools import reduce\n",
    "X_names = reduce(lambda a,b: set(a).union(b),\n",
    "                 (X_knows[n] for n in X_knows)\n",
    "                ).union(X_knows.keys())\n",
    "X_names = list(X_names)"
   ]
  },
  {
   "cell_type": "code",
   "execution_count": 106,
   "metadata": {},
   "outputs": [],
   "source": [
    "# Construct a 'StringIndexer' to convert strings to integers\n",
    "from sklearn import preprocessing\n",
    "le = preprocessing.LabelEncoder()\n",
    "lem = le.fit(list(X_names))\n",
    "X_edges = list(map(lem.transform, X_edges))"
   ]
  },
  {
   "cell_type": "code",
   "execution_count": 107,
   "metadata": {},
   "outputs": [],
   "source": [
    "# Create Graph object and add a string property for names\n",
    "g2 = gt.Graph()\n",
    "v_name = g2.new_vertex_property('string')\n",
    "g2.vertex_properties['name'] = v_name"
   ]
  },
  {
   "cell_type": "code",
   "execution_count": 109,
   "metadata": {},
   "outputs": [],
   "source": [
    "for vn in lem.classes_:\n",
    "    v = g2.add_vertex()\n",
    "    v_name[v] = vn"
   ]
  },
  {
   "cell_type": "code",
   "execution_count": 110,
   "metadata": {},
   "outputs": [],
   "source": [
    "for f,t in X_edges:\n",
    "    g2.add_edge(f,t)"
   ]
  },
  {
   "cell_type": "code",
   "execution_count": 7,
   "metadata": {},
   "outputs": [],
   "source": [
    "# TODO: Same as above, make a tidy, undirectional drawing of this graph"
   ]
  },
  {
   "cell_type": "markdown",
   "metadata": {},
   "source": [
    "# Fast graph construction"
   ]
  },
  {
   "cell_type": "code",
   "execution_count": 125,
   "metadata": {},
   "outputs": [],
   "source": [
    "# TODO: find one-line call to g.add_edge_list that constructs the X_knows graph\n",
    "# hint: use nested list comprehension to reshape the dictionary"
   ]
  },
  {
   "cell_type": "code",
   "execution_count": 126,
   "metadata": {},
   "outputs": [],
   "source": [
    "# TODO: Create an undirected view of this graph"
   ]
  },
  {
   "cell_type": "code",
   "execution_count": 127,
   "metadata": {},
   "outputs": [],
   "source": [
    "# Tidy up parallel edges"
   ]
  },
  {
   "cell_type": "code",
   "execution_count": 128,
   "metadata": {},
   "outputs": [],
   "source": [
    "# Try two different layouts presented in the tutorial"
   ]
  },
  {
   "cell_type": "code",
   "execution_count": 6,
   "metadata": {},
   "outputs": [],
   "source": [
    "# Produce a tidy drawing of the undirected graph"
   ]
  },
  {
   "cell_type": "markdown",
   "metadata": {},
   "source": [
    "# Graph analysis"
   ]
  },
  {
   "cell_type": "markdown",
   "metadata": {},
   "source": [
    "Work through the [graph filtering examples](https://graph-tool.skewed.de/static/doc/quickstart.html#graph-views) to draw a view of a relevant graph measure, such as betweenness.\n",
    "\n",
    "Use one of the graphs constructed above."
   ]
  },
  {
   "cell_type": "code",
   "execution_count": null,
   "metadata": {},
   "outputs": [],
   "source": []
  }
 ],
 "metadata": {
  "kernelspec": {
   "display_name": "Python 3",
   "language": "python",
   "name": "python3"
  },
  "language_info": {
   "codemirror_mode": {
    "name": "ipython",
    "version": 3
   },
   "file_extension": ".py",
   "mimetype": "text/x-python",
   "name": "python",
   "nbconvert_exporter": "python",
   "pygments_lexer": "ipython3",
   "version": "3.6.6"
  }
 },
 "nbformat": 4,
 "nbformat_minor": 2
}
